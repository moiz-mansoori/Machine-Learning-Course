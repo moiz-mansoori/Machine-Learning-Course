{
  "cells": [
    {
      "cell_type": "markdown",
      "metadata": {
        "colab_type": "text",
        "id": "eiNwni1xsEgT"
      },
      "source": [
        "## Importing the libraries"
      ]
    },
    {
      "cell_type": "code",
      "execution_count": 11,
      "metadata": {
        "colab": {},
        "colab_type": "code",
        "id": "UJfitBClsJlT"
      },
      "outputs": [],
      "source": [
        "import numpy as np\n",
        "import matplotlib.pyplot as plt\n",
        "import pandas as pd\n",
        "import seaborn as sns"
      ]
    },
    {
      "cell_type": "markdown",
      "metadata": {
        "colab_type": "text",
        "id": "vLt-7XUKsXBd"
      },
      "source": [
        "## Data Preprocessing"
      ]
    },
    {
      "cell_type": "markdown",
      "metadata": {},
      "source": [
        "### Load data as transactions"
      ]
    },
    {
      "cell_type": "code",
      "execution_count": 12,
      "metadata": {},
      "outputs": [],
      "source": [
        "with open('Market_Basket_Optimisation.csv', 'r') as f:\n",
        "    transactions = [list(filter(None, line.strip().split(','))) for line in f if line.strip()]"
      ]
    },
    {
      "cell_type": "markdown",
      "metadata": {},
      "source": [
        "### Create a dataframe of transactions (one-hot encoding)\n"
      ]
    },
    {
      "cell_type": "code",
      "execution_count": 13,
      "metadata": {
        "colab": {},
        "colab_type": "code",
        "id": "J_A-UFOAsaDf"
      },
      "outputs": [],
      "source": [
        "from mlxtend.preprocessing import TransactionEncoder\n",
        "te = TransactionEncoder()\n",
        "te_ary = te.fit_transform(transactions)\n",
        "df = pd.DataFrame(te_ary, columns=te.columns_)\n"
      ]
    },
    {
      "cell_type": "markdown",
      "metadata": {
        "colab_type": "text",
        "id": "1wYZdBd5sea_"
      },
      "source": [
        "## Eclat Implementation"
      ]
    },
    {
      "cell_type": "code",
      "execution_count": 14,
      "metadata": {},
      "outputs": [],
      "source": [
        "from collections import defaultdict\n",
        "from itertools import combinations"
      ]
    },
    {
      "cell_type": "code",
      "execution_count": 15,
      "metadata": {},
      "outputs": [],
      "source": [
        "def eclat(prefix, items, min_support, freq_itemsets, tidset_dict):\n",
        "    while items:\n",
        "        i, itids = items.pop()\n",
        "        new_prefix = prefix + [i]\n",
        "        freq_itemsets[frozenset(new_prefix)] = len(itids)\n",
        "        # Extension step: find items occurring with current item\n",
        "        candidates = []\n",
        "        for j, jtids in items:\n",
        "            tids = itids & jtids\n",
        "            if len(tids) >= min_support:\n",
        "                candidates.append((j, tids))\n",
        "        eclat(new_prefix, candidates, min_support, freq_itemsets, tidset_dict)\n"
      ]
    },
    {
      "cell_type": "markdown",
      "metadata": {},
      "source": [
        "### Convert to tidset representation\n"
      ]
    },
    {
      "cell_type": "code",
      "execution_count": 16,
      "metadata": {
        "colab": {},
        "colab_type": "code",
        "id": "YzIk4vXZsj5i"
      },
      "outputs": [],
      "source": [
        "tidset_dict = defaultdict(set)\n",
        "for tid, row in df.iterrows():\n",
        "    for item in df.columns[row]:\n",
        "        tidset_dict[item].add(tid)\n",
        "\n",
        "min_support = int(0.02 * len(df))  # Example: Minimum support = 2%\n",
        "freq_itemsets = dict()\n",
        "items = [(item, tids) for item, tids in tidset_dict.items() if len(tids) >= min_support]\n",
        "eclat([], items, min_support, freq_itemsets, tidset_dict)\n"
      ]
    },
    {
      "cell_type": "markdown",
      "metadata": {
        "colab_type": "text",
        "id": "b176YNwWspiO"
      },
      "source": [
        "## Extract Association Rules\n"
      ]
    },
    {
      "cell_type": "markdown",
      "metadata": {
        "colab_type": "text",
        "id": "iO6bF_dImT-E"
      },
      "source": [
        "### To extract rules from frequent itemsets:"
      ]
    },
    {
      "cell_type": "code",
      "execution_count": 17,
      "metadata": {
        "colab": {},
        "colab_type": "code",
        "id": "kvF-sLc6ifhd"
      },
      "outputs": [],
      "source": [
        "def generate_rules(freq_itemsets, min_confidence=0.2):\n",
        "    rules = []\n",
        "    for itemset in freq_itemsets:\n",
        "        if len(itemset) > 1:\n",
        "            support = freq_itemsets[itemset] / len(df)\n",
        "            for i in range(1, len(itemset)):\n",
        "                for antecedent in combinations(itemset, i):\n",
        "                    antecedent = frozenset(antecedent)\n",
        "                    consequent = itemset - antecedent\n",
        "                    if consequent:\n",
        "                        conf = freq_itemsets[itemset] / freq_itemsets.get(antecedent, 1)\n",
        "                        if conf >= min_confidence:\n",
        "                            rules.append({\n",
        "                                'antecedent': set(antecedent),\n",
        "                                'consequent': set(consequent),\n",
        "                                'support': support,\n",
        "                                'confidence': conf\n",
        "                            })\n",
        "    return rules\n",
        "\n",
        "rules = generate_rules(freq_itemsets, min_confidence=0.2)\n",
        "\n"
      ]
    },
    {
      "cell_type": "markdown",
      "metadata": {},
      "source": [
        "### Sort and show top 10 rules by confidence\n"
      ]
    },
    {
      "cell_type": "code",
      "execution_count": 18,
      "metadata": {},
      "outputs": [
        {
          "name": "stdout",
          "output_type": "stream",
          "text": [
            "{'soup'} => {'mineral water'} [Support: 0.023, Confidence: 0.456]\n",
            "{'olive oil'} => {'mineral water'} [Support: 0.028, Confidence: 0.419]\n",
            "{'ground beef'} => {'mineral water'} [Support: 0.041, Confidence: 0.417]\n",
            "{'ground beef'} => {'spaghetti'} [Support: 0.039, Confidence: 0.399]\n",
            "{'cooking oil'} => {'mineral water'} [Support: 0.020, Confidence: 0.394]\n",
            "{'chicken'} => {'mineral water'} [Support: 0.023, Confidence: 0.380]\n",
            "{'frozen vegetables'} => {'mineral water'} [Support: 0.036, Confidence: 0.375]\n",
            "{'milk'} => {'mineral water'} [Support: 0.048, Confidence: 0.370]\n",
            "{'tomatoes'} => {'mineral water'} [Support: 0.024, Confidence: 0.357]\n",
            "{'pancakes'} => {'mineral water'} [Support: 0.034, Confidence: 0.355]\n"
          ]
        }
      ],
      "source": [
        "rules_sorted = sorted(rules, key=lambda x: (x['confidence'], x['support']), reverse=True)\n",
        "for r in rules_sorted[:10]:\n",
        "    print(f\"{r['antecedent']} => {r['consequent']} [Support: {r['support']:.3f}, Confidence: {r['confidence']:.3f}]\")"
      ]
    },
    {
      "cell_type": "markdown",
      "metadata": {},
      "source": [
        "## Top 10 Association Rules"
      ]
    },
    {
      "cell_type": "code",
      "execution_count": null,
      "metadata": {},
      "outputs": [
        {
          "data": {
            "image/png": "[encoded data removed]",
            "text/plain": [
              "<Figure size 1000x600 with 1 Axes>"
            ]
          },
          "metadata": {},
          "output_type": "display_data"
        }
      ],
      "source": [
        "def plot_rules(rules):\n",
        "    df_rules = pd.DataFrame(rules)\n",
        "    df_rules['antecedent'] = df_rules['antecedent'].apply(lambda x: ', '.join(x))\n",
        "    df_rules['consequent'] = df_rules['consequent'].apply(lambda x: ', '.join(x))\n",
        "    \n",
        "    plt.figure(figsize=(10, 6))\n",
        "    sns.barplot(x='confidence', y='antecedent', data=df_rules.sort_values(by='confidence', ascending=False).head(10))\n",
        "    plt.title('Top 10 Association Rules by Confidence')\n",
        "    plt.xlabel('Confidence')\n",
        "    plt.ylabel('Antecedent')\n",
        "    plt.show()\n",
        "plot_rules(rules_sorted)"
      ]
    },
    {
      "cell_type": "code",
      "execution_count": null,
      "metadata": {},
      "outputs": [],
      "source": []
    }
  ],
  "metadata": {
    "colab": {
      "collapsed_sections": [],
      "name": "eclat.ipynb",
      "provenance": [],
      "toc_visible": true
    },
    "kernelspec": {
      "display_name": "Python 3",
      "name": "python3"
    },
    "language_info": {
      "codemirror_mode": {
        "name": "ipython",
        "version": 3
      },
      "file_extension": ".py",
      "mimetype": "text/x-python",
      "name": "python",
      "nbconvert_exporter": "python",
      "pygments_lexer": "ipython3",
      "version": "3.12.0"
    }
  },
  "nbformat": 4,
  "nbformat_minor": 0
}
