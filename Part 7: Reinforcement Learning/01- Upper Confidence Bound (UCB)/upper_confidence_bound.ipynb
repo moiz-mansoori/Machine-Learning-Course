{
 "cells": [
  {
   "cell_type": "markdown",
   "metadata": {
    "colab_type": "text",
    "id": "QJdrJJQUv3-k"
   },
   "source": [
    "# Upper Confidence Bound (UCB)\n",
    "It is a reinforcement learning algorithm for solving the multi-armed bandit problem. UCB balances exploration (trying different options) and exploitation (choosing the best-known option) by selecting the action (or ad) with the highest upper confidence bound, which combines the average reward of that action with a term that accounts for uncertainty."
   ]
  },
  {
   "cell_type": "markdown",
   "metadata": {
    "colab_type": "text",
    "id": "2XCjepjJwEv-"
   },
   "source": [
    "## Importing the libraries"
   ]
  },
  {
   "cell_type": "code",
   "execution_count": 2,
   "metadata": {
    "colab": {},
    "colab_type": "code",
    "id": "l_mBkG3YwNTt"
   },
   "outputs": [],
   "source": [
    "import numpy as np\n",
    "import matplotlib.pyplot as plt\n",
    "import pandas as pd\n",
    "import random"
   ]
  },
  {
   "cell_type": "markdown",
   "metadata": {
    "colab_type": "text",
    "id": "npqlXjaNwYTv"
   },
   "source": [
    "## Importing the dataset"
   ]
  },
  {
   "cell_type": "code",
   "execution_count": null,
   "metadata": {
    "colab": {},
    "colab_type": "code",
    "id": "HMJfUVLVwcFc"
   },
   "outputs": [],
   "source": [
    "dataset = pd.read_csv(\"Ads_CTR_Optimisation.csv\") "
   ]
  },
  {
   "cell_type": "markdown",
   "metadata": {},
   "source": [
    "## Dataset dimensions: (N users × d ads)"
   ]
  },
  {
   "cell_type": "code",
   "execution_count": null,
   "metadata": {},
   "outputs": [
    {
     "name": "stdout",
     "output_type": "stream",
     "text": [
      "Dataset contains 10000 rounds (users) and 10 ads.\n"
     ]
    }
   ],
   "source": [
    "N, d = dataset.shape\n",
    "print(f\"Dataset contains {N} rounds (users) and {d} ads.\")"
   ]
  },
  {
   "cell_type": "markdown",
   "metadata": {},
   "source": [
    "## Initialize variables "
   ]
  },
  {
   "cell_type": "code",
   "execution_count": null,
   "metadata": {},
   "outputs": [],
   "source": [
    "ads_selected = []         # track which ad was selected each round\n",
    "numbers_of_selections = [0] * d   # N_i(n): number of times each ad was selected\n",
    "sums_of_rewards = [0] * d         # R_i(n): total reward of each ad\n",
    "total_reward = 0"
   ]
  },
  {
   "cell_type": "markdown",
   "metadata": {},
   "source": [
    "## Apply UCB"
   ]
  },
  {
   "cell_type": "code",
   "execution_count": null,
   "metadata": {},
   "outputs": [],
   "source": [
    "for n in range(0, N):\n",
    "    ad = 0\n",
    "    max_upper_bound = 0\n",
    "    for i in range(0, d):\n",
    "        if numbers_of_selections[i] > 0:\n",
    "            # Average reward for ad i\n",
    "            average_reward = sums_of_rewards[i] / numbers_of_selections[i]\n",
    "            # Delta_i(n): confidence bound\n",
    "            delta_i = np.sqrt(3/2 * np.log(n+1) / numbers_of_selections[i])\n",
    "            upper_bound = average_reward + delta_i\n",
    "        else:\n",
    "            # Ensure each ad is selected at least once\n",
    "            upper_bound = 1e400   # assign a huge value\n",
    "        \n",
    "        if upper_bound > max_upper_bound:\n",
    "            max_upper_bound = upper_bound\n",
    "            ad = i\n",
    "    \n",
    "    # Select the best ad for this round\n",
    "    ads_selected.append(ad)\n",
    "    numbers_of_selections[ad] += 1\n",
    "    reward = dataset.values[n, ad]\n",
    "    sums_of_rewards[ad] += reward\n",
    "    total_reward += reward\n",
    "\n"
   ]
  },
  {
   "cell_type": "markdown",
   "metadata": {},
   "source": [
    "## Visualization\n",
    "### Plot histogram of ad selections"
   ]
  },
  {
   "cell_type": "code",
   "execution_count": 8,
   "metadata": {},
   "outputs": [
    {
     "data": {
      "image/png": "[encoded data removed]",
      "text/plain": [
       "<Figure size 1000x600 with 1 Axes>"
      ]
     },
     "metadata": {},
     "output_type": "display_data"
    }
   ],
   "source": [
    "\n",
    "plt.figure(figsize=(10, 6))\n",
    "plt.hist(ads_selected, bins=np.arange(d+1)-0.5, rwidth=0.8, color='skyblue', edgecolor='black')\n",
    "plt.xticks(range(d))\n",
    "plt.xlabel(\"Ad Index\")\n",
    "plt.ylabel(\"Number of times selected\")\n",
    "plt.title(\"Histogram of Ads Selections using UCB\")\n",
    "plt.show()\n"
   ]
  },
  {
   "cell_type": "markdown",
   "metadata": {},
   "source": [
    "## Total rewards and number of selections"
   ]
  },
  {
   "cell_type": "code",
   "execution_count": 9,
   "metadata": {},
   "outputs": [
    {
     "name": "stdout",
     "output_type": "stream",
     "text": [
      "Total Reward Achieved: 2178\n",
      "Selections per Ad: [705, 387, 186, 345, 6323, 150, 292, 1170, 256, 186]\n"
     ]
    }
   ],
   "source": [
    "print(f\"Total Reward Achieved: {total_reward}\")\n",
    "print(\"Selections per Ad:\", numbers_of_selections)"
   ]
  },
  {
   "cell_type": "code",
   "execution_count": null,
   "metadata": {},
   "outputs": [],
   "source": []
  }
 ],
 "metadata": {
  "colab": {
   "authorship_tag": "ABX9TyMz+roSgJuEsprRsPKmwoVD",
   "collapsed_sections": [],
   "name": "Upper Confidence Bound",
   "provenance": [],
   "toc_visible": true
  },
  "kernelspec": {
   "display_name": "Python 3",
   "name": "python3"
  },
  "language_info": {
   "codemirror_mode": {
    "name": "ipython",
    "version": 3
   },
   "file_extension": ".py",
   "mimetype": "text/x-python",
   "name": "python",
   "nbconvert_exporter": "python",
   "pygments_lexer": "ipython3",
   "version": "3.12.0"
  }
 },
 "nbformat": 4,
 "nbformat_minor": 0
}
