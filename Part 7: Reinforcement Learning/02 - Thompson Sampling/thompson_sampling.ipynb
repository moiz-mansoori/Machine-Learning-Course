{
 "cells": [
  {
   "cell_type": "markdown",
   "metadata": {
    "colab_type": "text",
    "id": "vPKTIRAtx232"
   },
   "source": [
    "# Thompson Sampling\n",
    "Thompson Sampling is a reinforcement learning algorithm used to solve the multi-armed bandit problem. It works by maintaining a probability distribution (usually Beta distribution) over the possible reward of each action (or ad, in CTR problems). At each round, it randomly samples from these distributions and selects the action with the highest sampled value. Over time, it balances exploration (trying less certain actions) and exploitation (choosing the best-known action), making it efficient for problems like online advertising, recommendation systems, and clinical trials."
   ]
  },
  {
   "cell_type": "markdown",
   "metadata": {
    "colab_type": "text",
    "id": "PqPv9zpAx-EE"
   },
   "source": [
    "## Importing the libraries"
   ]
  },
  {
   "cell_type": "code",
   "execution_count": 1,
   "metadata": {
    "colab": {},
    "colab_type": "code",
    "id": "lozuE-Fhx_QB"
   },
   "outputs": [],
   "source": [
    "import numpy as np\n",
    "import pandas as pd\n",
    "import matplotlib.pyplot as plt\n",
    "import seaborn as sns"
   ]
  },
  {
   "cell_type": "markdown",
   "metadata": {
    "colab_type": "text",
    "id": "iqpVk5HhyGmO"
   },
   "source": [
    "## Importing the dataset"
   ]
  },
  {
   "cell_type": "code",
   "execution_count": 2,
   "metadata": {
    "colab": {},
    "colab_type": "code",
    "id": "kY4zzW4hyNfA"
   },
   "outputs": [],
   "source": [
    "dataset = pd.read_csv('Ads_CTR_Optimisation.csv')"
   ]
  },
  {
   "cell_type": "markdown",
   "metadata": {},
   "source": [
    "## Parameters"
   ]
  },
  {
   "cell_type": "code",
   "execution_count": 3,
   "metadata": {},
   "outputs": [],
   "source": [
    "N = dataset.shape[0]   # Number of rounds (10,000)\n",
    "d = dataset.shape[1]   # Number of ads (10)"
   ]
  },
  {
   "cell_type": "markdown",
   "metadata": {},
   "source": [
    "## Tracking variables\n"
   ]
  },
  {
   "cell_type": "code",
   "execution_count": 4,
   "metadata": {},
   "outputs": [],
   "source": [
    "ads_selected = []\n",
    "n_rewards_1 = np.zeros(d)   # number of times ad i got reward 1\n",
    "n_rewards_0 = np.zeros(d)   # number of times ad i got reward 0\n",
    "total_reward = 0"
   ]
  },
  {
   "cell_type": "markdown",
   "metadata": {
    "colab_type": "text",
    "id": "WqoXeWOYyQhB"
   },
   "source": [
    "## Implementing Thompson Sampling Algorithm"
   ]
  },
  {
   "cell_type": "code",
   "execution_count": 5,
   "metadata": {
    "colab": {},
    "colab_type": "code",
    "id": "PCiHv51pyUII"
   },
   "outputs": [],
   "source": [
    "for n in range(N):\n",
    "    ad = 0\n",
    "    max_random = 0\n",
    "    for i in range(d):\n",
    "        # Draw a sample from the Beta distribution\n",
    "        random_beta = np.random.beta(n_rewards_1[i] + 1, n_rewards_0[i] + 1)\n",
    "        if random_beta > max_random:\n",
    "            max_random = random_beta\n",
    "            ad = i\n",
    "    ads_selected.append(ad)\n",
    "    reward = dataset.values[n, ad]\n",
    "    if reward == 1:\n",
    "        n_rewards_1[ad] += 1\n",
    "    else:\n",
    "        n_rewards_0[ad] += 1\n",
    "    total_reward += reward"
   ]
  },
  {
   "cell_type": "markdown",
   "metadata": {},
   "source": [
    "## Results & Analysis"
   ]
  },
  {
   "cell_type": "code",
   "execution_count": 6,
   "metadata": {},
   "outputs": [
    {
     "name": "stdout",
     "output_type": "stream",
     "text": [
      "Total Reward obtained: 2554\n"
     ]
    }
   ],
   "source": [
    "print(\"Total Reward obtained:\", total_reward)"
   ]
  },
  {
   "cell_type": "markdown",
   "metadata": {
    "colab_type": "text",
    "id": "tweWsgTHyXhv"
   },
   "source": [
    "## Visualising the results - Histogram"
   ]
  },
  {
   "cell_type": "code",
   "execution_count": 7,
   "metadata": {
    "colab": {
     "base_uri": "https://localhost:8080/",
     "height": 295
    },
    "colab_type": "code",
    "executionInfo": {
     "elapsed": 2001,
     "status": "ok",
     "timestamp": 1586416557302,
     "user": {
      "displayName": "Hadelin de Ponteves",
      "photoUrl": "https://lh3.googleusercontent.com/a-/AOh14GhEuXdT7eQweUmRPW8_laJuPggSK6hfvpl5a6WBaA=s64",
      "userId": "15047218817161520419"
     },
     "user_tz": -240
    },
    "id": "k8DJmN06yak3",
    "outputId": "82f5fc5a-b478-410e-eeb2-b09c4b72c979"
   },
   "outputs": [
    {
     "name": "stderr",
     "output_type": "stream",
     "text": [
      "C:\\Users\\User\\AppData\\Local\\Temp\\ipykernel_4832\\2356885151.py:2: FutureWarning: \n",
      "\n",
      "Passing `palette` without assigning `hue` is deprecated and will be removed in v0.14.0. Assign the `x` variable to `hue` and set `legend=False` for the same effect.\n",
      "\n",
      "  sns.countplot(x=ads_selected, palette=\"viridis\")\n"
     ]
    },
    {
     "data": {
      "image/png": "[encoded data removed]",
      "text/plain": [
       "<Figure size 1000x600 with 1 Axes>"
      ]
     },
     "metadata": {},
     "output_type": "display_data"
    }
   ],
   "source": [
    "plt.figure(figsize=(10,6))\n",
    "sns.countplot(x=ads_selected, palette=\"viridis\")\n",
    "plt.title(\"Histogram of Ads Selections using Thompson Sampling\")\n",
    "plt.xlabel(\"Ads\")\n",
    "plt.ylabel(\"Number of times each ad was selected\")\n",
    "plt.show()"
   ]
  },
  {
   "cell_type": "markdown",
   "metadata": {},
   "source": [
    "## Advanced Insights\n",
    "\n",
    "### Calculate empirical CTR for each ad"
   ]
  },
  {
   "cell_type": "code",
   "execution_count": 8,
   "metadata": {},
   "outputs": [
    {
     "name": "stdout",
     "output_type": "stream",
     "text": [
      "\n",
      "Detailed Results per Ad:\n",
      "   Ad  Selected Count  Reward 1s  Reward 0s  Estimated CTR\n",
      "4   5            8802       2366       6436       0.268803\n",
      "7   8             635        131        504       0.206299\n",
      "0   1             117         16        101       0.136752\n",
      "6   7             105         13         92       0.123810\n",
      "1   2              87         10         77       0.114943\n",
      "8   9              62          6         56       0.096774\n",
      "2   3              61          5         56       0.081967\n",
      "3   4              61          5         56       0.081967\n",
      "9  10              34          1         33       0.029412\n",
      "5   6              36          1         35       0.027778\n"
     ]
    }
   ],
   "source": [
    "ctr_estimates = n_rewards_1 / (n_rewards_1 + n_rewards_0)\n",
    "results = pd.DataFrame({\n",
    "    \"Ad\": np.arange(1, d+1),\n",
    "    \"Selected Count\": np.bincount(ads_selected, minlength=d),\n",
    "    \"Reward 1s\": n_rewards_1.astype(int),\n",
    "    \"Reward 0s\": n_rewards_0.astype(int),\n",
    "    \"Estimated CTR\": ctr_estimates\n",
    "}).sort_values(by=\"Estimated CTR\", ascending=False)\n",
    "\n",
    "print(\"\\nDetailed Results per Ad:\")\n",
    "print(results)"
   ]
  },
  {
   "cell_type": "markdown",
   "metadata": {},
   "source": [
    "## Visualization of CTR estimates"
   ]
  },
  {
   "cell_type": "code",
   "execution_count": 9,
   "metadata": {},
   "outputs": [
    {
     "name": "stderr",
     "output_type": "stream",
     "text": [
      "C:\\Users\\User\\AppData\\Local\\Temp\\ipykernel_4832\\2726198020.py:2: FutureWarning: \n",
      "\n",
      "Passing `palette` without assigning `hue` is deprecated and will be removed in v0.14.0. Assign the `x` variable to `hue` and set `legend=False` for the same effect.\n",
      "\n",
      "  sns.barplot(x=\"Ad\", y=\"Estimated CTR\", data=results, palette=\"magma\")\n"
     ]
    },
    {
     "data": {
      "image/png": "[encoded data removed]",
      "text/plain": [
       "<Figure size 1000x600 with 1 Axes>"
      ]
     },
     "metadata": {},
     "output_type": "display_data"
    }
   ],
   "source": [
    "\n",
    "plt.figure(figsize=(10,6))\n",
    "sns.barplot(x=\"Ad\", y=\"Estimated CTR\", data=results, palette=\"magma\")\n",
    "plt.title(\"Estimated Click Through Rate (CTR) per Ad\")\n",
    "plt.xlabel(\"Ads\")\n",
    "plt.ylabel(\"CTR Estimate\")\n",
    "plt.show()"
   ]
  },
  {
   "cell_type": "code",
   "execution_count": null,
   "metadata": {},
   "outputs": [],
   "source": []
  }
 ],
 "metadata": {
  "colab": {
   "authorship_tag": "ABX9TyPYgZhJufkFAsCxlwVcjHND",
   "collapsed_sections": [],
   "name": "Thompson Sampling",
   "provenance": [],
   "toc_visible": true
  },
  "kernelspec": {
   "display_name": "Python 3",
   "name": "python3"
  },
  "language_info": {
   "codemirror_mode": {
    "name": "ipython",
    "version": 3
   },
   "file_extension": ".py",
   "mimetype": "text/x-python",
   "name": "python",
   "nbconvert_exporter": "python",
   "pygments_lexer": "ipython3",
   "version": "3.12.0"
  }
 },
 "nbformat": 4,
 "nbformat_minor": 0
}
